{
 "cells": [
  {
   "cell_type": "code",
   "execution_count": 1,
   "id": "ddf4be9f-510f-4d97-b831-ce4b6347b109",
   "metadata": {},
   "outputs": [],
   "source": [
    "%%capture --no-stderr\n",
    "%pip install --upgrade --quiet langchain langchain-community langchain-openai faiss-cpu"
   ]
  },
  {
   "cell_type": "code",
   "execution_count": 2,
   "id": "0dc0ce9d-f78a-4c32-9a9a-30435d91e041",
   "metadata": {},
   "outputs": [
    {
     "name": "stdin",
     "output_type": "stream",
     "text": [
      " ········\n"
     ]
    }
   ],
   "source": [
    "import getpass\n",
    "import os\n",
    "\n",
    "if not os.environ.get(\"OPENAI_API_KEY\"):\n",
    "    os.environ[\"OPENAI_API_KEY\"] = getpass.getpass()"
   ]
  },
  {
   "cell_type": "code",
   "execution_count": 4,
   "id": "092d7264-5a8b-4efa-9da8-7bce9b60030f",
   "metadata": {},
   "outputs": [],
   "source": [
    "# Comment out the below to opt-out of using LangSmith in this notebook. Not required.\n",
    "if not os.environ.get(\"LANGCHAIN_API_KEY\"):\n",
    "    os.environ[\"LANGCHAIN_API_KEY\"] = getpass.getpass()\n",
    "    os.environ[\"LANGCHAIN_TRACING_V2\"] = \"true\""
   ]
  },
  {
   "cell_type": "code",
   "execution_count": 5,
   "id": "0b843b8c-e776-40ee-9c64-d895a2dfe96d",
   "metadata": {},
   "outputs": [
    {
     "name": "stdout",
     "output_type": "stream",
     "text": [
      "sqlite\n",
      "['Album', 'Artist', 'Customer', 'Employee', 'Genre', 'Invoice', 'InvoiceLine', 'MediaType', 'Playlist', 'PlaylistTrack', 'Track']\n"
     ]
    },
    {
     "data": {
      "text/plain": [
       "\"[(1, 'AC/DC'), (2, 'Accept'), (3, 'Aerosmith'), (4, 'Alanis Morissette'), (5, 'Alice In Chains'), (6, 'Antônio Carlos Jobim'), (7, 'Apocalyptica'), (8, 'Audioslave'), (9, 'BackBeat'), (10, 'Billy Cobham')]\""
      ]
     },
     "execution_count": 5,
     "metadata": {},
     "output_type": "execute_result"
    }
   ],
   "source": [
    "from langchain_community.utilities import SQLDatabase\n",
    "\n",
    "db = SQLDatabase.from_uri(\"sqlite:///Chinook.db\")\n",
    "print(db.dialect)\n",
    "print(db.get_usable_table_names())\n",
    "db.run(\"SELECT * FROM Artist LIMIT 10;\")"
   ]
  },
  {
   "cell_type": "code",
   "execution_count": 7,
   "id": "7c67f37d-7a39-4fa2-bfdb-1699a6e21dd5",
   "metadata": {},
   "outputs": [
    {
     "name": "stdout",
     "output_type": "stream",
     "text": [
      "Note: you may need to restart the kernel to use updated packages.\n"
     ]
    }
   ],
   "source": [
    "pip install -qU langchain-groq"
   ]
  },
  {
   "cell_type": "code",
   "execution_count": 6,
   "id": "805d7af7-79c9-4f91-be0a-c6b27405f6ea",
   "metadata": {},
   "outputs": [
    {
     "name": "stdin",
     "output_type": "stream",
     "text": [
      " ········\n"
     ]
    }
   ],
   "source": [
    "import getpass\n",
    "import os\n",
    "\n",
    "os.environ[\"GROQ_API_KEY\"] = getpass.getpass()\n",
    "\n",
    "from langchain_groq import ChatGroq\n",
    "\n",
    "llm = ChatGroq(model=\"llama3-8b-8192\")"
   ]
  },
  {
   "cell_type": "code",
   "execution_count": 7,
   "id": "9f972ae2-b033-4c93-a1e7-75fecf549d0b",
   "metadata": {},
   "outputs": [
    {
     "name": "stdout",
     "output_type": "stream",
     "text": [
      "[('Brazil',), ('Germany',), ('Canada',), ('Norway',), ('Czech Republic',), ('Czech Republic',), ('Austria',), ('Belgium',), ('Denmark',), ('Brazil',), ('Brazil',), ('Brazil',), ('Brazil',), ('Canada',), ('Canada',), ('USA',), ('USA',), ('USA',), ('USA',), ('USA',), ('USA',), ('USA',), ('USA',), ('USA',), ('USA',), ('USA',), ('USA',), ('USA',), ('Canada',), ('Canada',), ('Canada',), ('Canada',), ('Canada',), ('Portugal',), ('Portugal',), ('Germany',), ('Germany',), ('Germany',), ('France',), ('France',), ('France',), ('France',), ('France',), ('Finland',), ('Hungary',), ('Ireland',), ('Italy',), ('Netherlands',), ('Poland',), ('Spain',), ('Sweden',), ('United Kingdom',), ('United Kingdom',), ('United Kingdom',), ('Australia',), ('Argentina',), ('Chile',), ('India',), ('India',)]\n"
     ]
    }
   ],
   "source": [
    "#to just execute the query and print the result. \n",
    "\n",
    "from langchain_community.tools.sql_database.tool import QuerySQLDataBaseTool\n",
    "from langchain_core.runnables import RunnableMap, RunnablePassthrough\n",
    "from operator import itemgetter\n",
    "from langchain.chains import create_sql_query_chain\n",
    "\n",
    "# Initialize the tools\n",
    "execute_query = QuerySQLDataBaseTool(db=db)\n",
    "write_query = create_sql_query_chain(llm, db)\n",
    "\n",
    "# Helper function to extract the SQL query\n",
    "def extract_sql_query(output):\n",
    "    parts = output.split(\"SQLQuery: \")\n",
    "    if len(parts) > 1:\n",
    "        return parts[1].strip()\n",
    "    return \"\"\n",
    "\n",
    "# Define the pipeline\n",
    "chain = (\n",
    "    write_query  # Generate SQL query\n",
    "    | RunnableMap({\"query\": extract_sql_query})  # Extract query part\n",
    "    | execute_query  # Execute the query\n",
    ")\n",
    " \n",
    "\n",
    "# Invoke the pipeline\n",
    "response = chain.invoke({\"question\": \"Which country has the highest total sales?\"})\n",
    "\n",
    "print(response)\n"
   ]
  },
  {
   "cell_type": "code",
   "execution_count": 8,
   "id": "fb9a9c71-60dc-45fb-b645-3d63861eb7c0",
   "metadata": {},
   "outputs": [
    {
     "name": "stdout",
     "output_type": "stream",
     "text": [
      "The user question is: Find all albums for the artist 'AC/DC'.\n",
      "\n",
      "The SQL query provided is a correct solution to this problem. It first finds the ArtistId of the artist 'AC/DC' from the Artist table and then finds all albums with that ArtistId from the Album table. The result is a list of all albums by AC/DC, which in this case is [(1, 'For Those About To Rock We Salute You'), (4, 'Let There Be Rock')].\n"
     ]
    }
   ],
   "source": [
    "# execute query and get the result in form of natural language.\n",
    "\n",
    "from langchain_community.tools.sql_database.tool import QuerySQLDataBaseTool\n",
    "from langchain.chains import create_sql_query_chain\n",
    "from langchain_core.runnables import RunnablePassthrough\n",
    "from langchain_core.output_parsers import StrOutputParser\n",
    "from langchain_core.prompts import PromptTemplate\n",
    "from operator import itemgetter\n",
    "\n",
    "# Define the prompt template\n",
    "answer_prompt = PromptTemplate.from_template(\n",
    "    \"\"\"Given the following user question, corresponding SQL query, and SQL result, answer the user question.\n",
    "\n",
    "Question: {question}\n",
    "SQL Query: {query}\n",
    "SQL Result: {result}\n",
    "Answer: \"\"\"\n",
    ")\n",
    "\n",
    "# Create the query generation chain\n",
    "write_query = create_sql_query_chain(llm, db)\n",
    "execute_query = QuerySQLDataBaseTool(db=db)\n",
    "\n",
    "# Helper function to extract SQL query from the chain output\n",
    "def extract_sql_query(query_with_text):\n",
    "    parts = query_with_text.split(\"SQLQuery: \")\n",
    "    if len(parts) > 1:\n",
    "        sql_query = parts[1].strip()  # Extract the SQL query\n",
    "        return sql_query  # Return the extracted query\n",
    "    return \"\"\n",
    "\n",
    "# Step 1: Generate the SQL query from the user question\n",
    "generated_query = write_query.invoke({\"question\": \"Find all albums for the artist 'AC/DC'\"})  # Store full response\n",
    "sql_query = extract_sql_query(generated_query)  # Extract only the SQL query\n",
    "\n",
    "# Step 2: Execute the extracted query\n",
    "query_result = execute_query.invoke({\"query\": sql_query})  # Execute the SQL query and get the result\n",
    "\n",
    "# Step 3: Build the answer prompt\n",
    "answer_data = {\n",
    "    \"question\": \"Find all albums for the artist 'AC/DC'\",\n",
    "    \"query\": sql_query,\n",
    "    \"result\": query_result\n",
    "}\n",
    "\n",
    "# Step 4: Format the answer prompt\n",
    "formatted_prompt = answer_prompt.format(**answer_data)  # Format the prompt with input data\n",
    "\n",
    "# Step 5: Use LLM to generate a response\n",
    "llm_response = llm.invoke(formatted_prompt)  # LLM output as an AIMessage\n",
    "\n",
    "# Step 6: Parse the LLM response explicitly\n",
    "response = StrOutputParser().invoke(llm_response.content)  # Use the content of the AIMessage\n",
    "\n",
    "# Output the final result\n",
    "print(response)\n",
    "\n"
   ]
  }
 ],
 "metadata": {
  "kernelspec": {
   "display_name": "Python 3 (ipykernel)",
   "language": "python",
   "name": "python3"
  },
  "language_info": {
   "codemirror_mode": {
    "name": "ipython",
    "version": 3
   },
   "file_extension": ".py",
   "mimetype": "text/x-python",
   "name": "python",
   "nbconvert_exporter": "python",
   "pygments_lexer": "ipython3",
   "version": "3.11.2"
  }
 },
 "nbformat": 4,
 "nbformat_minor": 5
}
