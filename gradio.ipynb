{
 "cells": [
  {
   "cell_type": "markdown",
   "id": "1d229c22-3000-43f0-8513-937465bce15b",
   "metadata": {},
   "source": [
    "GRADIO"
   ]
  },
  {
   "cell_type": "code",
   "execution_count": 1,
   "id": "5e7384e3-cc33-49c6-bafe-eaf6d5a7e44b",
   "metadata": {},
   "outputs": [
    {
     "name": "stderr",
     "output_type": "stream",
     "text": [
      "/home/deepak/myenv/lib/python3.11/site-packages/tqdm/auto.py:21: TqdmWarning: IProgress not found. Please update jupyter and ipywidgets. See https://ipywidgets.readthedocs.io/en/stable/user_install.html\n",
      "  from .autonotebook import tqdm as notebook_tqdm\n"
     ]
    }
   ],
   "source": [
    "import gradio as gr"
   ]
  },
  {
   "cell_type": "markdown",
   "id": "135be1cb-db60-4da6-be71-33a0ff83328c",
   "metadata": {},
   "source": [
    "Basic hello_world function, input- string , output - string"
   ]
  },
  {
   "cell_type": "code",
   "execution_count": 2,
   "id": "9e7b2638-9881-4dc2-b06d-370e3e4e3d50",
   "metadata": {},
   "outputs": [],
   "source": [
    "def hello_world(name):\n",
    "    return \"hello \" + name +\" !!!\""
   ]
  },
  {
   "cell_type": "code",
   "execution_count": 3,
   "id": "972d329a-8ccb-4ed1-978f-11464b2d5de1",
   "metadata": {},
   "outputs": [
    {
     "data": {
      "text/plain": [
       "'hello deepak !!!'"
      ]
     },
     "execution_count": 3,
     "metadata": {},
     "output_type": "execute_result"
    }
   ],
   "source": [
    "hello_world(\"deepak\")"
   ]
  },
  {
   "cell_type": "code",
   "execution_count": 4,
   "id": "7876f847-6da4-4264-a637-90ff77a9618c",
   "metadata": {},
   "outputs": [],
   "source": [
    "interface = gr.Interface(fn = hello_world, inputs= \"text\", outputs= \"text\")"
   ]
  },
  {
   "cell_type": "code",
   "execution_count": 5,
   "id": "ad734b6d-b0c5-41e0-8419-98b80156bd9e",
   "metadata": {},
   "outputs": [
    {
     "name": "stdout",
     "output_type": "stream",
     "text": [
      "* Running on local URL:  http://127.0.0.1:7860\n",
      "\n",
      "To create a public link, set `share=True` in `launch()`.\n"
     ]
    },
    {
     "data": {
      "text/html": [
       "<div><iframe src=\"http://127.0.0.1:7860/\" width=\"100%\" height=\"500\" allow=\"autoplay; camera; microphone; clipboard-read; clipboard-write;\" frameborder=\"0\" allowfullscreen></iframe></div>"
      ],
      "text/plain": [
       "<IPython.core.display.HTML object>"
      ]
     },
     "metadata": {},
     "output_type": "display_data"
    },
    {
     "data": {
      "text/plain": []
     },
     "execution_count": 5,
     "metadata": {},
     "output_type": "execute_result"
    }
   ],
   "source": [
    "interface.launch()"
   ]
  },
  {
   "cell_type": "markdown",
   "id": "4d2f9a58-a196-4942-b51a-a136d3d7e53e",
   "metadata": {},
   "source": [
    "sepia function for image , input- image , output- image"
   ]
  },
  {
   "cell_type": "code",
   "execution_count": 6,
   "id": "9581a13c-1d39-411f-bee2-060c74493f49",
   "metadata": {},
   "outputs": [
    {
     "name": "stdout",
     "output_type": "stream",
     "text": [
      "* Running on local URL:  http://127.0.0.1:7861\n",
      "\n",
      "To create a public link, set `share=True` in `launch()`.\n"
     ]
    },
    {
     "data": {
      "text/html": [
       "<div><iframe src=\"http://127.0.0.1:7861/\" width=\"100%\" height=\"500\" allow=\"autoplay; camera; microphone; clipboard-read; clipboard-write;\" frameborder=\"0\" allowfullscreen></iframe></div>"
      ],
      "text/plain": [
       "<IPython.core.display.HTML object>"
      ]
     },
     "metadata": {},
     "output_type": "display_data"
    }
   ],
   "source": [
    "import numpy as np\n",
    "import gradio as gr\n",
    "\n",
    "def sepia(input_img):\n",
    "    sepia_filter = np.array([\n",
    "        [0.393, 0.769, 0.189],\n",
    "        [0.349, 0.686, 0.168],\n",
    "        [0.272, 0.534, 0.131]\n",
    "    ])\n",
    "    sepia_img = input_img.dot(sepia_filter.T)\n",
    "    sepia_img /= sepia_img.max()\n",
    "    return sepia_img\n",
    "\n",
    "demo = gr.Interface(sepia, gr.Image(), \"image\")\n",
    "if __name__ == \"__main__\":\n",
    "    demo.launch()"
   ]
  },
  {
   "cell_type": "markdown",
   "id": "76dd3bc6-3e3e-43a1-921a-76e43459fdbb",
   "metadata": {},
   "source": [
    "multiple inputs and single output:"
   ]
  },
  {
   "cell_type": "code",
   "execution_count": 7,
   "id": "5e2880c3-e175-402f-9c86-620c781589c7",
   "metadata": {},
   "outputs": [
    {
     "name": "stdout",
     "output_type": "stream",
     "text": [
      "* Running on local URL:  http://127.0.0.1:7862\n",
      "\n",
      "To create a public link, set `share=True` in `launch()`.\n"
     ]
    },
    {
     "data": {
      "text/html": [
       "<div><iframe src=\"http://127.0.0.1:7862/\" width=\"100%\" height=\"500\" allow=\"autoplay; camera; microphone; clipboard-read; clipboard-write;\" frameborder=\"0\" allowfullscreen></iframe></div>"
      ],
      "text/plain": [
       "<IPython.core.display.HTML object>"
      ]
     },
     "metadata": {},
     "output_type": "display_data"
    },
    {
     "data": {
      "text/plain": []
     },
     "execution_count": 7,
     "metadata": {},
     "output_type": "execute_result"
    }
   ],
   "source": [
    "import gradio as gr\n",
    "\n",
    "# Define the BMI calculation function\n",
    "def bmi(name, height, weight):\n",
    "    try:\n",
    "        height_m = height / 100  # Convert height from cm to meters\n",
    "        bmi_value = weight / (height_m ** 2)\n",
    "        return f\"Hello {name}, your BMI is {bmi_value:.2f}\"\n",
    "    except ZeroDivisionError:\n",
    "        return \"Height cannot be zero.\"\n",
    "\n",
    "# Create the Gradio interface\n",
    "inter = gr.Interface(\n",
    "    fn=bmi,\n",
    "    inputs=[\n",
    "        gr.Textbox(label=\"Name\"),  # Textbox for name input\n",
    "        gr.Slider(0, 200, label=\"Height (cm)\"),  # Slider for height\n",
    "        gr.Slider(0, 100, label=\"Weight (kg)\")   # Slider for weight\n",
    "    ],\n",
    "    outputs=\"text\"\n",
    ")\n",
    "\n",
    "# Launch the interface\n",
    "inter.launch()\n"
   ]
  }
 ],
 "metadata": {
  "kernelspec": {
   "display_name": "Python 3 (ipykernel)",
   "language": "python",
   "name": "python3"
  },
  "language_info": {
   "codemirror_mode": {
    "name": "ipython",
    "version": 3
   },
   "file_extension": ".py",
   "mimetype": "text/x-python",
   "name": "python",
   "nbconvert_exporter": "python",
   "pygments_lexer": "ipython3",
   "version": "3.11.2"
  }
 },
 "nbformat": 4,
 "nbformat_minor": 5
}
